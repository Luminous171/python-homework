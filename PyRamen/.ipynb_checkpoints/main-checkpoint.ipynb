{
 "cells": [
  {
   "cell_type": "code",
   "execution_count": 1,
   "metadata": {},
   "outputs": [],
   "source": [
    "# Financial Analysis: PyRamen\n",
    "'''\n",
    "This code imports two csv files containing sales and product information for PyRamen. \n",
    "After reading the files it counts the number of items sold, the revenue from each item,\n",
    "the total cost of goods sold, and the profit for each menu item. This will help decide\n",
    "which menu items to keep or discard. The output is a text file called sales_analysis.txt\n",
    "'''\n",
    "# Libraries and Functions\n",
    "from pathlib import Path\n",
    "import csv\n",
    "\n",
    "# Variables\n",
    "## File Paths\n",
    "file_path_menu = \"menu_data.csv\"\n",
    "file_path_sales = \"sales_data.csv\"\n",
    "file_path_out = \"sales_analysis.txt\"\n",
    "\n",
    "## Lists and Dictionaries\n",
    "menu = []\n",
    "sales = []\n",
    "report = {}\n",
    "\n",
    "## Numeric\n",
    "quantity = 0\n",
    "price = 0.0\n",
    "cost = 0.0\n",
    "\n",
    "## Text\n",
    "menu_item = \"string\"\n",
    "item = \"string\""
   ]
  },
  {
   "cell_type": "code",
   "execution_count": 2,
   "metadata": {},
   "outputs": [],
   "source": [
    "# Read in menu file\n",
    "with open(file_path_menu, 'r') as file:\n",
    "    csvreader = csv.reader(file, delimiter=',')\n",
    "    header = next(csvreader)\n",
    "    for row in csvreader:\n",
    "        menu.append(row)"
   ]
  },
  {
   "cell_type": "code",
   "execution_count": 3,
   "metadata": {},
   "outputs": [],
   "source": [
    "# Read in sales file\n",
    "with open(file_path_sales, 'r') as file:\n",
    "    csvreader = csv.reader(file, delimiter=',')\n",
    "    header = next(csvreader)\n",
    "    for row in csvreader:\n",
    "        sales.append(row)"
   ]
  },
  {
   "cell_type": "code",
   "execution_count": 4,
   "metadata": {},
   "outputs": [],
   "source": [
    "# Loop through each item in the sales file and store each unique menu item in the dictionary\n",
    "for row in sales:\n",
    "    quantity = int(row[3])\n",
    "    menu_item = row[4]\n",
    "    if menu_item not in report:\n",
    "        report[menu_item] = {\"01-count\": 0, \"02-revenue\": 0, \"03-cogs\": 0, \"04-profit\": 0}\n",
    "    \n",
    "    # Loop through the menu file to match items in the sales file, calculate profit, and store outputs\n",
    "    for line in menu:\n",
    "        item = line[0]\n",
    "        price = float(line[3])\n",
    "        cost = float(line[4])\n",
    "        if item == menu_item:\n",
    "            profit = quantity * (price - cost)\n",
    "            report[menu_item][\"01-count\"] += quantity\n",
    "            report[menu_item][\"02-revenue\"] += price * quantity\n",
    "            report[menu_item][\"03-cogs\"] += cost * quantity\n",
    "            report[menu_item][\"04-profit\"] += profit * quantity"
   ]
  },
  {
   "cell_type": "code",
   "execution_count": 6,
   "metadata": {},
   "outputs": [],
   "source": [
    "# Creation of text file\n",
    "with open(file_path_out, 'w') as file:\n",
    "    for item, results in report.items():\n",
    "        print(str(item)+\" \"+str(results), file=file)"
   ]
  }
 ],
 "metadata": {
  "kernelspec": {
   "display_name": "Python 3",
   "language": "python",
   "name": "python3"
  },
  "language_info": {
   "codemirror_mode": {
    "name": "ipython",
    "version": 3
   },
   "file_extension": ".py",
   "mimetype": "text/x-python",
   "name": "python",
   "nbconvert_exporter": "python",
   "pygments_lexer": "ipython3",
   "version": "3.8.3"
  }
 },
 "nbformat": 4,
 "nbformat_minor": 4
}
