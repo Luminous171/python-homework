{
 "cells": [
  {
   "cell_type": "code",
   "execution_count": 13,
   "metadata": {},
   "outputs": [],
   "source": [
    "# Setting up Libraries\n",
    "from pathlib import Path\n",
    "import csv\n",
    "\n",
    "# Setting up variables\n",
    "file_path = Path(\"budget_data.csv\")\n",
    "total_months = 0\n",
    "total_net_profit = 0\n",
    "prior_profit = 0\n",
    "profit_change = 0\n",
    "sum_profit_change = 0\n",
    "max_profit_change = 0\n",
    "min_profit_change = 0\n",
    "avg_profit_change = 0\n",
    "records = [[],[]]\n",
    "profit_change_list = []\n",
    "min_date = \"Date\"\n",
    "max_date = \"Date\"\n",
    "\n",
    "# Starting Code"
   ]
  },
  {
   "cell_type": "code",
   "execution_count": 14,
   "metadata": {},
   "outputs": [],
   "source": [
    "# Read in file\n",
    "with open(file_path, 'r') as file:\n",
    "    csvreader = csv.reader(file, delimiter=',')\n",
    "    header = next(csvreader)\n",
    "    for row in csvreader:\n",
    "        records[0].append(row[0])\n",
    "        records[1].append(int(row[1]))\n",
    "        "
   ]
  },
  {
   "cell_type": "code",
   "execution_count": 15,
   "metadata": {},
   "outputs": [
    {
     "name": "stdout",
     "output_type": "stream",
     "text": [
      "86\n",
      "38382578\n"
     ]
    }
   ],
   "source": [
    "# Calculating Total Number of Months and Total Net Profit\n",
    "total_months = len(records[0])\n",
    "for net_profit in records[1]:\n",
    "    total_net_profit += net_profit\n",
    "    \n",
    "print(total_months)\n",
    "print(total_net_profit)\n"
   ]
  },
  {
   "cell_type": "code",
   "execution_count": 20,
   "metadata": {},
   "outputs": [
    {
     "name": "stdout",
     "output_type": "stream",
     "text": [
      "-2315.1176470588234\n",
      "1926159\n",
      "-2196167\n",
      "Feb-2012\n",
      "Sep-2013\n"
     ]
    }
   ],
   "source": [
    "for net_profit in records[1]:\n",
    "    if prior_profit == 0:\n",
    "        prior_profit = net_profit\n",
    "    else:\n",
    "        profit_change = net_profit - prior_profit\n",
    "        profit_change_list.append(profit_change)\n",
    "        prior_profit = net_profit\n",
    "        sum_profit_change += profit_change\n",
    "        if profit_change > max_profit_change:\n",
    "            max_profit_change = profit_change\n",
    "        elif profit_change < min_profit_change:\n",
    "            min_profit_change = profit_change\n",
    "\n",
    "max_date = records[0][profit_change_list.index(max_profit_change) + 1]\n",
    "min_date = records[0][profit_change_list.index(min_profit_change) + 1]\n",
    "\n",
    "avg_profit_change = sum_profit_change / (total_months - 1)  \n",
    "\n",
    "print(avg_profit_change)\n",
    "print(max_profit_change)\n",
    "print(min_profit_change)\n",
    "print(max_date)\n",
    "print(min_date)"
   ]
  }
 ],
 "metadata": {
  "kernelspec": {
   "display_name": "Python 3",
   "language": "python",
   "name": "python3"
  },
  "language_info": {
   "codemirror_mode": {
    "name": "ipython",
    "version": 3
   },
   "file_extension": ".py",
   "mimetype": "text/x-python",
   "name": "python",
   "nbconvert_exporter": "python",
   "pygments_lexer": "ipython3",
   "version": "3.8.3"
  }
 },
 "nbformat": 4,
 "nbformat_minor": 4
}
