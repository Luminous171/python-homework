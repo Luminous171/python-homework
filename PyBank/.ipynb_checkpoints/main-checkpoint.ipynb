{
 "cells": [
  {
   "cell_type": "code",
   "execution_count": 33,
   "metadata": {},
   "outputs": [],
   "source": [
    "# Libraries and Functions\n",
    "from pathlib import Path\n",
    "import csv\n",
    "\n",
    "# Variables\n",
    "## File Paths\n",
    "file_path_in = Path(\"budget_data.csv\")\n",
    "file_path_out = Path(\"Financial_Analysis.txt\")\n",
    "\n",
    "## Numeric Variables\n",
    "total_months = 0\n",
    "total_net_profit = 0\n",
    "prior_profit = 0\n",
    "profit_change = 0\n",
    "sum_profit_change = 0\n",
    "max_profit_change = 0\n",
    "min_profit_change = 0\n",
    "avg_profit_change = 0\n",
    "\n",
    "## Lists and Dictionaries\n",
    "records = [[],[]]\n",
    "profit_change_list = []\n",
    "\n",
    "## Text\n",
    "min_date = \"Date\"\n",
    "max_date = \"Date\""
   ]
  },
  {
   "cell_type": "code",
   "execution_count": 28,
   "metadata": {},
   "outputs": [],
   "source": [
    "# Read in file\n",
    "with open(file_path_in, 'r') as file:\n",
    "    csvreader = csv.reader(file, delimiter=',')\n",
    "    header = next(csvreader)\n",
    "    # Loop through file to assign values to a list for calculations\n",
    "    for row in csvreader:\n",
    "        records[0].append(row[0])\n",
    "        records[1].append(int(row[1])) "
   ]
  },
  {
   "cell_type": "code",
   "execution_count": 29,
   "metadata": {},
   "outputs": [],
   "source": [
    "# Calculating Total Number of Months and Total Net Profit\n",
    "total_months = len(records[0])\n",
    "for net_profit in records[1]:\n",
    "    total_net_profit += net_profit"
   ]
  },
  {
   "cell_type": "code",
   "execution_count": 30,
   "metadata": {},
   "outputs": [],
   "source": [
    "# Loop through profit/loss list to calculate changes in profit\n",
    "for net_profit in records[1]:\n",
    "    # Excludes first list value because there is no change in profit\n",
    "    if prior_profit == 0:\n",
    "        prior_profit = net_profit\n",
    "    else:\n",
    "        \n",
    "        # Calculates change in profit and reassigns prior_profit for next calculation\n",
    "        profit_change = net_profit - prior_profit\n",
    "        prior_profit = net_profit\n",
    "        \n",
    "        # Creates list of profit changes for date reference later\n",
    "        profit_change_list.append(profit_change)        \n",
    "        \n",
    "        # Sums profit changes for average profit change calculation later\n",
    "        sum_profit_change += profit_change\n",
    "        \n",
    "        # If statement to determine max and min profit change utilizing same loop\n",
    "        if profit_change > max_profit_change:\n",
    "            max_profit_change = profit_change\n",
    "        elif profit_change < min_profit_change:\n",
    "            min_profit_change = profit_change\n",
    "\n",
    "# Store dates for greatest increase and decrease in net profits\n",
    "max_date = records[0][profit_change_list.index(max_profit_change) + 1]\n",
    "min_date = records[0][profit_change_list.index(min_profit_change) + 1]\n",
    "\n",
    "# Calculate average change in net profits\n",
    "avg_profit_change = sum_profit_change / (total_months - 1)  "
   ]
  },
  {
   "cell_type": "code",
   "execution_count": 31,
   "metadata": {},
   "outputs": [
    {
     "name": "stdout",
     "output_type": "stream",
     "text": [
      "Financial Analysis\n",
      "---------------------------\n",
      "Total Months: 86\n",
      "Total: $38382578\n",
      "Average Change: $-2315.12\n",
      "Greatest Increase in Profits: Feb-2012 ($1926159)\n",
      "Greatest Decrease in Profits: Sep-2013 ($-2196167)\n"
     ]
    }
   ],
   "source": [
    "# Print statements to the terminal\n",
    "print(\"Financial Analysis\")\n",
    "print(\"---------------------------\")\n",
    "print(f\"Total Months: {total_months}\")\n",
    "print(f\"Total: ${total_net_profit}\")\n",
    "print(f\"Average Change: ${round(avg_profit_change,2)}\")\n",
    "print(f\"Greatest Increase in Profits: {max_date} (${max_profit_change})\")\n",
    "print(f\"Greatest Decrease in Profits: {min_date} (${min_profit_change})\")"
   ]
  },
  {
   "cell_type": "code",
   "execution_count": 32,
   "metadata": {},
   "outputs": [],
   "source": [
    "# Creation of text file with same outputs as above\n",
    "with open(file_path_out, 'w') as file:\n",
    "    file.write(\"Financial Analysis\\n\")\n",
    "    file.write(\"---------------------------\\n\")\n",
    "    file.write(f\"Total Months: {total_months}\\n\")\n",
    "    file.write(f\"Total: ${total_net_profit}\\n\")\n",
    "    file.write(f\"Average Change: ${round(avg_profit_change,2)}\\n\")\n",
    "    file.write(f\"Greatest Increase in Profits: {max_date} (${max_profit_change})\\n\")\n",
    "    file.write(f\"Greatest Decrease in Profits: {min_date} (${min_profit_change})\\n\")"
   ]
  }
 ],
 "metadata": {
  "kernelspec": {
   "display_name": "Python 3",
   "language": "python",
   "name": "python3"
  },
  "language_info": {
   "codemirror_mode": {
    "name": "ipython",
    "version": 3
   },
   "file_extension": ".py",
   "mimetype": "text/x-python",
   "name": "python",
   "nbconvert_exporter": "python",
   "pygments_lexer": "ipython3",
   "version": "3.8.3"
  }
 },
 "nbformat": 4,
 "nbformat_minor": 4
}
